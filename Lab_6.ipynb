{
  "nbformat": 4,
  "nbformat_minor": 0,
  "metadata": {
    "colab": {
      "provenance": []
    },
    "kernelspec": {
      "name": "python3",
      "display_name": "Python 3"
    },
    "language_info": {
      "name": "python"
    }
  },
  "cells": [
    {
      "cell_type": "code",
      "execution_count": null,
      "metadata": {
        "colab": {
          "base_uri": "https://localhost:8080/"
        },
        "id": "CvielKI6edeo",
        "outputId": "37d1a48b-1aba-490a-e5d2-01b204597ef9"
      },
      "outputs": [
        {
          "output_type": "stream",
          "name": "stdout",
          "text": [
            "Requirement already satisfied: pandas in /usr/local/lib/python3.10/dist-packages (1.5.3)\n",
            "Requirement already satisfied: scikit-learn in /usr/local/lib/python3.10/dist-packages (1.2.2)\n",
            "Requirement already satisfied: numpy in /usr/local/lib/python3.10/dist-packages (1.23.5)\n",
            "Requirement already satisfied: python-dateutil>=2.8.1 in /usr/local/lib/python3.10/dist-packages (from pandas) (2.8.2)\n",
            "Requirement already satisfied: pytz>=2020.1 in /usr/local/lib/python3.10/dist-packages (from pandas) (2023.3.post1)\n",
            "Requirement already satisfied: scipy>=1.3.2 in /usr/local/lib/python3.10/dist-packages (from scikit-learn) (1.11.3)\n",
            "Requirement already satisfied: joblib>=1.1.1 in /usr/local/lib/python3.10/dist-packages (from scikit-learn) (1.3.2)\n",
            "Requirement already satisfied: threadpoolctl>=2.0.0 in /usr/local/lib/python3.10/dist-packages (from scikit-learn) (3.2.0)\n",
            "Requirement already satisfied: six>=1.5 in /usr/local/lib/python3.10/dist-packages (from python-dateutil>=2.8.1->pandas) (1.16.0)\n"
          ]
        }
      ],
      "source": [
        "pip install pandas scikit-learn numpy"
      ]
    },
    {
      "cell_type": "code",
      "source": [
        "import pandas as pd\n",
        "from sklearn.model_selection import train_test_split, cross_val_score, GridSearchCV\n",
        "from sklearn.neighbors import KNeighborsClassifier\n",
        "from sklearn.metrics import accuracy_score\n",
        "\n",
        "# Task 1: Load the data and display statistical information\n",
        "df = pd.read_csv(\"Iris_dataset.csv\")\n",
        "print(\"Statistical Information and Shape of Data:\")\n",
        "print(df.describe())\n",
        "print(\"Shape of Data:\", df.shape)\n",
        "\n",
        "# Task 2: Check for missing values\n",
        "missing_values = df.isnull().sum()\n",
        "print(\"\\nMissing Values in Variables:\")\n",
        "print(missing_values)\n",
        "\n",
        "# Task 3: Separate features into X and labels into Y\n",
        "X = df.iloc[:, :-1]\n",
        "Y = df.iloc[:, -1]\n",
        "print(\"\\nShape of Features (X):\", X.shape)\n",
        "print(\"Shape of Labels (Y):\", Y.shape)\n",
        "\n",
        "# Task 4: Split data into training and test sets (80:20)\n",
        "X_train, X_test, Y_train, Y_test = train_test_split(X, Y, test_size=0.2, random_state=42)\n",
        "\n",
        "# Task 5: Implement KNN classifier with nearest neighbors = 3\n",
        "knn = KNeighborsClassifier(n_neighbors=3)\n",
        "knn.fit(X_train, Y_train)\n",
        "\n",
        "# Task 6: Print the accuracy score of the model on the test data\n",
        "Y_pred = knn.predict(X_test)\n",
        "accuracy = accuracy_score(Y_test, Y_pred)\n",
        "print(\"\\nAccuracy Score of KNN (k=3):\", accuracy)\n",
        "\n",
        "# Task 7: Perform 5-fold cross-validation and print the mean score\n",
        "cross_val_scores = cross_val_score(knn, X, Y, cv=5)\n",
        "mean_score = cross_val_scores.mean()\n",
        "print(\"\\nMean Score of 5-fold Cross Validation:\", mean_score)\n",
        "\n",
        "# Task 8: Perform hyperparameter tuning using GridSearchCV\n",
        "param_grid = {'n_neighbors': list(range(1, 25))}\n",
        "grid_search = GridSearchCV(KNeighborsClassifier(), param_grid, cv=5)\n",
        "grid_search.fit(X, Y)\n",
        "optimal_k = grid_search.best_params_['n_neighbors']\n",
        "print(\"\\nOptimal Value of 'n_neighbors' from GridSearchCV:\", optimal_k)\n"
      ],
      "metadata": {
        "colab": {
          "base_uri": "https://localhost:8080/"
        },
        "id": "q9EBeiYZfDI8",
        "outputId": "de5d88a8-3bd9-4ec6-e89b-8a6617993b20"
      },
      "execution_count": null,
      "outputs": [
        {
          "output_type": "stream",
          "name": "stdout",
          "text": [
            "Statistical Information and Shape of Data:\n",
            "               Id  SepalLengthCm  SepalWidthCm  PetalLengthCm  PetalWidthCm\n",
            "count  150.000000     150.000000    150.000000     150.000000    150.000000\n",
            "mean    75.500000       5.843333      3.054000       3.758667      1.198667\n",
            "std     43.445368       0.828066      0.433594       1.764420      0.763161\n",
            "min      1.000000       4.300000      2.000000       1.000000      0.100000\n",
            "25%     38.250000       5.100000      2.800000       1.600000      0.300000\n",
            "50%     75.500000       5.800000      3.000000       4.350000      1.300000\n",
            "75%    112.750000       6.400000      3.300000       5.100000      1.800000\n",
            "max    150.000000       7.900000      4.400000       6.900000      2.500000\n",
            "Shape of Data: (150, 6)\n",
            "\n",
            "Missing Values in Variables:\n",
            "Id               0\n",
            "SepalLengthCm    0\n",
            "SepalWidthCm     0\n",
            "PetalLengthCm    0\n",
            "PetalWidthCm     0\n",
            "Species          0\n",
            "dtype: int64\n",
            "\n",
            "Shape of Features (X): (150, 5)\n",
            "Shape of Labels (Y): (150,)\n",
            "\n",
            "Accuracy Score of KNN (k=3): 1.0\n",
            "\n",
            "Mean Score of 5-fold Cross Validation: 0.8733333333333333\n",
            "\n",
            "Optimal Value of 'n_neighbors' from GridSearchCV: 2\n"
          ]
        }
      ]
    },
    {
      "cell_type": "code",
      "source": [
        "import pandas as pd\n",
        "import numpy as np\n",
        "import matplotlib.pyplot as plt\n",
        "from sklearn.model_selection import train_test_split\n",
        "from sklearn.neighbors import KNeighborsClassifier\n",
        "from sklearn.metrics import accuracy_score\n",
        "\n",
        "# Step 1: Load the data and display statistical information\n",
        "df = pd.read_csv(\"Iris_dataset.csv\")\n",
        "print(\"Statistical Information and Shape of Data:\")\n",
        "print(df.describe())\n",
        "print(\"Shape of Data:\", df.shape)\n",
        "\n",
        "# Step 2: Check for missing values\n",
        "missing_values = df.isnull().sum()\n",
        "print(\"\\nMissing Values in Variables:\")\n",
        "print(missing_values)\n",
        "\n",
        "# Step 3: Separate features into X and labels into Y\n",
        "X = df.iloc[:, :-1]\n",
        "Y = df.iloc[:, -1]\n",
        "print(\"\\nShape of Features (X):\", X.shape)\n",
        "print(\"Shape of Labels (Y):\", Y.shape)\n",
        "\n",
        "# Step 4: Split data into training and test sets (80:20)\n",
        "X_train, X_test, Y_train, Y_test = train_test_split(X, Y, test_size=0.2, random_state=42)\n",
        "\n",
        "# Step 5: Implement KNN classifier with nearest neighbor = 5\n",
        "knn = KNeighborsClassifier(n_neighbors=5)\n",
        "knn.fit(X_train, Y_train)\n",
        "\n",
        "# Step 6: Hyperparameter tuning with a loop (1 to 9 neighbors) and plot accuracy vs. nearest neighbor\n",
        "neighbors = list(range(1, 10))\n",
        "accuracy_scores = []\n",
        "\n",
        "for k in neighbors:\n",
        "    knn = KNeighborsClassifier(n_neighbors=k)\n",
        "    knn.fit(X_train, Y_train)\n",
        "    Y_pred = knn.predict(X_test)\n",
        "    accuracy = accuracy_score(Y_test, Y_pred)\n",
        "    accuracy_scores.append(accuracy)\n",
        "\n",
        "# Plot accuracy vs. nearest neighbor\n",
        "plt.figure(figsize=(10, 5))\n",
        "plt.plot(neighbors, accuracy_scores, marker='o', linestyle='-')\n",
        "plt.title('Accuracy vs. Nearest Neighbor (K)')\n",
        "plt.xlabel('Number of Nearest Neighbors (K)')\n",
        "plt.ylabel('Accuracy')\n",
        "plt.grid(True)\n",
        "plt.show()\n"
      ],
      "metadata": {
        "colab": {
          "base_uri": "https://localhost:8080/",
          "height": 886
        },
        "id": "krF9UnLcgGym",
        "outputId": "9fd60307-f4ca-4cb5-e0c1-7fd97afdd653"
      },
      "execution_count": null,
      "outputs": [
        {
          "output_type": "stream",
          "name": "stdout",
          "text": [
            "Statistical Information and Shape of Data:\n",
            "               Id  SepalLengthCm  SepalWidthCm  PetalLengthCm  PetalWidthCm\n",
            "count  150.000000     150.000000    150.000000     150.000000    150.000000\n",
            "mean    75.500000       5.843333      3.054000       3.758667      1.198667\n",
            "std     43.445368       0.828066      0.433594       1.764420      0.763161\n",
            "min      1.000000       4.300000      2.000000       1.000000      0.100000\n",
            "25%     38.250000       5.100000      2.800000       1.600000      0.300000\n",
            "50%     75.500000       5.800000      3.000000       4.350000      1.300000\n",
            "75%    112.750000       6.400000      3.300000       5.100000      1.800000\n",
            "max    150.000000       7.900000      4.400000       6.900000      2.500000\n",
            "Shape of Data: (150, 6)\n",
            "\n",
            "Missing Values in Variables:\n",
            "Id               0\n",
            "SepalLengthCm    0\n",
            "SepalWidthCm     0\n",
            "PetalLengthCm    0\n",
            "PetalWidthCm     0\n",
            "Species          0\n",
            "dtype: int64\n",
            "\n",
            "Shape of Features (X): (150, 5)\n",
            "Shape of Labels (Y): (150,)\n"
          ]
        },
        {
          "output_type": "display_data",
          "data": {
            "text/plain": [
              "<Figure size 1000x500 with 1 Axes>"
            ],
            "image/png": "[encoded data removed]"
          },
          "metadata": {}
        }
      ]
    }
  ]
}