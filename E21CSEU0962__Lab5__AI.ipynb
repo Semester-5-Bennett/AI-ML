{
  "nbformat": 4,
  "nbformat_minor": 0,
  "metadata": {
    "colab": {
      "provenance": []
    },
    "kernelspec": {
      "name": "python3",
      "display_name": "Python 3"
    },
    "language_info": {
      "name": "python"
    }
  },
  "cells": [
    {
      "cell_type": "code",
      "execution_count": 14,
      "metadata": {
        "colab": {
          "base_uri": "https://localhost:8080/"
        },
        "id": "Z8ah_E45YkaC",
        "outputId": "afb6e8a2-7e36-4a69-c1ad-d615608ea48d"
      },
      "outputs": [
        {
          "output_type": "stream",
          "name": "stdout",
          "text": [
            "Features Subset: ['radius_mean'], Accuracy: 0.9298245614035088\n",
            "Features Subset: ['radius_mean', 'texture_mean'], Accuracy: 0.9035087719298246\n",
            "Features Subset: ['texture_mean', 'radius_mean', 'perimeter_mean'], Accuracy: 0.9385964912280702\n",
            "Features Subset: ['texture_mean', 'radius_mean', 'perimeter_mean', 'area_mean'], Accuracy: 0.9298245614035088\n",
            "Features Subset: ['texture_mean', 'radius_mean', 'area_mean', 'perimeter_mean', 'smoothness_mean'], Accuracy: 0.9385964912280702\n",
            "Features Subset: ['texture_mean', 'perimeter_mean', 'smoothness_mean', 'area_mean', 'radius_mean', 'compactness_mean'], Accuracy: 0.9385964912280702\n",
            "Features Subset: ['texture_mean', 'perimeter_mean', 'smoothness_mean', 'area_mean', 'compactness_mean', 'radius_mean', 'concavity_mean'], Accuracy: 0.9385964912280702\n",
            "Features Subset: ['texture_mean', 'perimeter_mean', 'smoothness_mean', 'concavity_mean', 'area_mean', 'compactness_mean', 'radius_mean', 'concave points_mean'], Accuracy: 0.9385964912280702\n",
            "Features Subset: ['texture_mean', 'perimeter_mean', 'smoothness_mean', 'concave points_mean', 'concavity_mean', 'area_mean', 'compactness_mean', 'radius_mean', 'symmetry_mean'], Accuracy: 0.9473684210526315\n",
            "Features Subset: ['texture_mean', 'perimeter_mean', 'smoothness_mean', 'concave points_mean', 'concavity_mean', 'area_mean', 'compactness_mean', 'symmetry_mean', 'radius_mean', 'fractal_dimension_mean'], Accuracy: 0.9385964912280702\n",
            "Features Subset: ['texture_mean', 'perimeter_mean', 'smoothness_mean', 'concave points_mean', 'concavity_mean', 'area_mean', 'compactness_mean', 'symmetry_mean', 'radius_mean', 'fractal_dimension_mean', 'radius_se'], Accuracy: 0.9298245614035088\n",
            "Features Subset: ['texture_mean', 'perimeter_mean', 'smoothness_mean', 'concave points_mean', 'concavity_mean', 'area_mean', 'compactness_mean', 'symmetry_mean', 'radius_se', 'radius_mean', 'fractal_dimension_mean', 'texture_se'], Accuracy: 0.9298245614035088\n",
            "Features Subset: ['texture_mean', 'perimeter_mean', 'smoothness_mean', 'concave points_mean', 'concavity_mean', 'area_mean', 'compactness_mean', 'symmetry_mean', 'radius_se', 'radius_mean', 'texture_se', 'fractal_dimension_mean', 'perimeter_se'], Accuracy: 0.9298245614035088\n",
            "Features Subset: ['texture_mean', 'perimeter_mean', 'smoothness_mean', 'concave points_mean', 'concavity_mean', 'area_mean', 'compactness_mean', 'symmetry_mean', 'perimeter_se', 'radius_se', 'radius_mean', 'texture_se', 'fractal_dimension_mean', 'area_se'], Accuracy: 0.9385964912280702\n",
            "Features Subset: ['texture_mean', 'perimeter_mean', 'smoothness_mean', 'concave points_mean', 'concavity_mean', 'area_mean', 'compactness_mean', 'area_se', 'symmetry_mean', 'perimeter_se', 'radius_se', 'radius_mean', 'texture_se', 'fractal_dimension_mean', 'smoothness_se'], Accuracy: 0.9473684210526315\n",
            "Features Subset: ['texture_mean', 'perimeter_mean', 'smoothness_mean', 'concave points_mean', 'concavity_mean', 'smoothness_se', 'area_mean', 'compactness_mean', 'area_se', 'symmetry_mean', 'perimeter_se', 'radius_se', 'radius_mean', 'texture_se', 'fractal_dimension_mean', 'compactness_se'], Accuracy: 0.9385964912280702\n",
            "Features Subset: ['texture_mean', 'perimeter_mean', 'compactness_se', 'smoothness_mean', 'concave points_mean', 'concavity_mean', 'smoothness_se', 'area_mean', 'compactness_mean', 'area_se', 'symmetry_mean', 'perimeter_se', 'radius_se', 'radius_mean', 'texture_se', 'fractal_dimension_mean', 'concavity_se'], Accuracy: 0.9385964912280702\n",
            "Features Subset: ['texture_mean', 'perimeter_mean', 'compactness_se', 'concavity_se', 'smoothness_mean', 'concave points_mean', 'concavity_mean', 'smoothness_se', 'area_mean', 'compactness_mean', 'area_se', 'symmetry_mean', 'perimeter_se', 'radius_se', 'radius_mean', 'texture_se', 'fractal_dimension_mean', 'concave points_se'], Accuracy: 0.9385964912280702\n",
            "Features Subset: ['texture_mean', 'perimeter_mean', 'compactness_se', 'concavity_se', 'smoothness_mean', 'concave points_mean', 'concavity_mean', 'smoothness_se', 'area_mean', 'compactness_mean', 'area_se', 'symmetry_mean', 'perimeter_se', 'radius_se', 'radius_mean', 'texture_se', 'concave points_se', 'fractal_dimension_mean', 'symmetry_se'], Accuracy: 0.9385964912280702\n",
            "Features Subset: ['texture_mean', 'perimeter_mean', 'smoothness_mean', 'symmetry_se', 'symmetry_mean', 'texture_se', 'fractal_dimension_mean', 'compactness_se', 'concavity_se', 'compactness_mean', 'area_se', 'perimeter_se', 'radius_mean', 'smoothness_se', 'concave points_mean', 'concavity_mean', 'area_mean', 'radius_se', 'concave points_se', 'fractal_dimension_se'], Accuracy: 0.9385964912280702\n",
            "Features Subset: ['texture_mean', 'perimeter_mean', 'smoothness_mean', 'symmetry_se', 'symmetry_mean', 'texture_se', 'fractal_dimension_mean', 'compactness_se', 'concavity_se', 'compactness_mean', 'area_se', 'perimeter_se', 'radius_mean', 'smoothness_se', 'fractal_dimension_se', 'concave points_mean', 'concavity_mean', 'area_mean', 'radius_se', 'concave points_se', 'radius_worst'], Accuracy: 0.9736842105263158\n",
            "Features Subset: ['texture_mean', 'perimeter_mean', 'smoothness_mean', 'symmetry_se', 'symmetry_mean', 'texture_se', 'fractal_dimension_mean', 'compactness_se', 'concavity_se', 'compactness_mean', 'area_se', 'radius_worst', 'perimeter_se', 'radius_mean', 'smoothness_se', 'fractal_dimension_se', 'concave points_mean', 'concavity_mean', 'area_mean', 'radius_se', 'concave points_se', 'texture_worst'], Accuracy: 0.956140350877193\n",
            "Features Subset: ['texture_mean', 'perimeter_mean', 'smoothness_mean', 'symmetry_se', 'symmetry_mean', 'texture_se', 'fractal_dimension_mean', 'compactness_se', 'concavity_se', 'compactness_mean', 'area_se', 'radius_worst', 'perimeter_se', 'radius_mean', 'smoothness_se', 'texture_worst', 'fractal_dimension_se', 'concave points_mean', 'concavity_mean', 'area_mean', 'radius_se', 'concave points_se', 'perimeter_worst'], Accuracy: 0.9736842105263158\n",
            "Features Subset: ['texture_mean', 'perimeter_mean', 'smoothness_mean', 'symmetry_se', 'symmetry_mean', 'texture_se', 'fractal_dimension_mean', 'compactness_se', 'concavity_se', 'compactness_mean', 'area_se', 'radius_worst', 'perimeter_se', 'radius_mean', 'perimeter_worst', 'smoothness_se', 'texture_worst', 'fractal_dimension_se', 'concave points_mean', 'concavity_mean', 'area_mean', 'radius_se', 'concave points_se', 'area_worst'], Accuracy: 0.956140350877193\n",
            "Features Subset: ['texture_mean', 'perimeter_mean', 'smoothness_mean', 'symmetry_se', 'symmetry_mean', 'texture_se', 'fractal_dimension_mean', 'compactness_se', 'concavity_se', 'compactness_mean', 'area_se', 'radius_worst', 'perimeter_se', 'radius_mean', 'perimeter_worst', 'smoothness_se', 'texture_worst', 'fractal_dimension_se', 'concave points_mean', 'concavity_mean', 'area_mean', 'radius_se', 'area_worst', 'concave points_se', 'smoothness_worst'], Accuracy: 0.956140350877193\n",
            "Features Subset: ['texture_mean', 'perimeter_mean', 'smoothness_mean', 'symmetry_se', 'symmetry_mean', 'texture_se', 'fractal_dimension_mean', 'compactness_se', 'concavity_se', 'compactness_mean', 'area_se', 'radius_worst', 'smoothness_worst', 'perimeter_se', 'radius_mean', 'perimeter_worst', 'smoothness_se', 'texture_worst', 'fractal_dimension_se', 'concave points_mean', 'concavity_mean', 'area_mean', 'radius_se', 'area_worst', 'concave points_se', 'compactness_worst'], Accuracy: 0.9649122807017544\n",
            "Features Subset: ['texture_mean', 'perimeter_mean', 'smoothness_mean', 'symmetry_se', 'symmetry_mean', 'texture_se', 'fractal_dimension_mean', 'compactness_se', 'concavity_se', 'compactness_mean', 'area_se', 'radius_worst', 'smoothness_worst', 'perimeter_se', 'radius_mean', 'perimeter_worst', 'smoothness_se', 'texture_worst', 'fractal_dimension_se', 'compactness_worst', 'concave points_mean', 'concavity_mean', 'area_mean', 'radius_se', 'area_worst', 'concave points_se', 'concavity_worst'], Accuracy: 0.9649122807017544\n",
            "Features Subset: ['texture_mean', 'perimeter_mean', 'smoothness_mean', 'symmetry_se', 'symmetry_mean', 'texture_se', 'fractal_dimension_mean', 'concavity_worst', 'compactness_se', 'concavity_se', 'compactness_mean', 'area_se', 'radius_worst', 'smoothness_worst', 'perimeter_se', 'radius_mean', 'perimeter_worst', 'smoothness_se', 'texture_worst', 'fractal_dimension_se', 'compactness_worst', 'concave points_mean', 'concavity_mean', 'area_mean', 'radius_se', 'area_worst', 'concave points_se', 'concave points_worst'], Accuracy: 0.956140350877193\n",
            "Features Subset: ['texture_mean', 'perimeter_mean', 'smoothness_mean', 'symmetry_se', 'symmetry_mean', 'texture_se', 'fractal_dimension_mean', 'concavity_worst', 'compactness_se', 'concavity_se', 'compactness_mean', 'area_se', 'radius_worst', 'smoothness_worst', 'perimeter_se', 'radius_mean', 'perimeter_worst', 'smoothness_se', 'texture_worst', 'fractal_dimension_se', 'compactness_worst', 'concave points_mean', 'concavity_mean', 'concave points_worst', 'area_mean', 'radius_se', 'area_worst', 'concave points_se', 'symmetry_worst'], Accuracy: 0.956140350877193\n",
            "Features Subset: ['texture_mean', 'perimeter_mean', 'smoothness_mean', 'symmetry_se', 'symmetry_mean', 'texture_se', 'fractal_dimension_mean', 'concavity_worst', 'compactness_se', 'concavity_se', 'compactness_mean', 'symmetry_worst', 'area_se', 'radius_worst', 'smoothness_worst', 'perimeter_se', 'radius_mean', 'perimeter_worst', 'smoothness_se', 'texture_worst', 'fractal_dimension_se', 'compactness_worst', 'concave points_mean', 'concavity_mean', 'concave points_worst', 'area_mean', 'radius_se', 'area_worst', 'concave points_se', 'fractal_dimension_worst'], Accuracy: 0.956140350877193\n",
            "Best Feature: ['texture_mean', 'perimeter_mean', 'smoothness_mean', 'symmetry_se', 'symmetry_mean', 'texture_se', 'fractal_dimension_mean', 'compactness_se', 'concavity_se', 'compactness_mean', 'area_se', 'perimeter_se', 'radius_mean', 'smoothness_se', 'fractal_dimension_se', 'concave points_mean', 'concavity_mean', 'area_mean', 'radius_se', 'concave points_se', 'radius_worst'], Best Accuracy: 0.9736842105263158\n"
          ]
        }
      ],
      "source": [
        "import pandas as pd\n",
        "from sklearn.model_selection import train_test_split\n",
        "from sklearn.svm import SVC\n",
        "from sklearn.metrics import accuracy_score\n",
        "\n",
        "# Load the dataset\n",
        "data = pd.read_csv('Cancer Dataset.csv')\n",
        "\n",
        "# Split the dataset into features (X) and labels (y)\n",
        "X = data.drop(columns=['diagnosis'])\n",
        "y = data['diagnosis']\n",
        "\n",
        "# Split the dataset into training and testing sets\n",
        "X_train, X_test, y_train, y_test = train_test_split(X, y, test_size=0.2, random_state=42)\n",
        "\n",
        "# Initialize an empty set to store selected features\n",
        "selected_features = set()\n",
        "\n",
        "# Create an empty variable to store the best accuracy and the best feature\n",
        "best_accuracy = 0.0\n",
        "best_feature = None\n",
        "\n",
        "# Create an SVM classifier with a Linear kernel\n",
        "svm_linear = SVC(kernel='linear')\n",
        "sub = ()\n",
        "# Loop through each feature in X_train.columns\n",
        "for feature in X_train.columns:\n",
        "    # If the feature is already in selected_features, continue to the next feature\n",
        "    if feature in selected_features:\n",
        "        continue\n",
        "\n",
        "    # Create a features_subset by combining selected_features and the current feature\n",
        "    features_subset = list(selected_features) + [feature]\n",
        "\n",
        "    # Fit the svm_linear model on X_train with features_subset and y_train\n",
        "    svm_linear.fit(X_train[features_subset], y_train)\n",
        "\n",
        "    # Make predictions on X_test with features_subset\n",
        "    y_pred = svm_linear.predict(X_test[features_subset])\n",
        "\n",
        "    # Calculate accuracy by comparing y_test and the predictions\n",
        "    accuracy = accuracy_score(y_test, y_pred)\n",
        "\n",
        "    # Print the current features_subset and accuracy\n",
        "    print(f'Features Subset: {features_subset}, Accuracy: {accuracy}')\n",
        "\n",
        "    # If accuracy is better than best_accuracy, update best_accuracy\n",
        "    if accuracy > best_accuracy:\n",
        "        best_accuracy = accuracy\n",
        "        best_feature = feature\n",
        "        sub = features_subset\n",
        "\n",
        "    # Add the current feature to selected_features\n",
        "    selected_features.add(feature)\n",
        "\n",
        "# Print the best_feature and best_accuracy\n",
        "print(f'Best Feature: {sub}, Best Accuracy: {best_accuracy}')\n"
      ]
    },
    {
      "cell_type": "markdown",
      "source": [
        "Q2. Download the following dataset and perform the specified operations:"
      ],
      "metadata": {
        "id": "RE3A86KGa-_r"
      }
    },
    {
      "cell_type": "markdown",
      "source": [
        "A.\tLoad and preprocess the dataset."
      ],
      "metadata": {
        "id": "4GM7LB6cbHDr"
      }
    },
    {
      "cell_type": "markdown",
      "source": [],
      "metadata": {
        "id": "gkF8DD2bgRtB"
      }
    },
    {
      "cell_type": "code",
      "source": [
        "import pandas as pd\n",
        "from sklearn.model_selection import train_test_split\n",
        "from sklearn.preprocessing import StandardScaler\n",
        "\n",
        "# Load the dataset (assuming you have already downloaded it)\n",
        "data = pd.read_csv('Cancer Dataset.csv')\n",
        "\n",
        "# Split the data into features (X) and labels (y)\n",
        "X = data.drop(columns=['diagnosis'])  # Replace 'target_column_name' with the actual target column name\n",
        "y = data['diagnosis']\n",
        "\n",
        "# Split the dataset into training and testing sets (e.g., 80% train, 20% test)\n",
        "X_train, X_test, y_train, y_test = train_test_split(X, y, test_size=0.2, random_state=42)\n",
        "\n",
        "# Standardize the features (optional but often recommended for SVM)\n",
        "scaler = StandardScaler()\n",
        "X_train = scaler.fit_transform(X_train)\n",
        "\n",
        "X_test = scaler.transform(X_test)\n"
      ],
      "metadata": {
        "id": "m5fYHyNGbM-p"
      },
      "execution_count": 6,
      "outputs": []
    },
    {
      "cell_type": "markdown",
      "source": [
        "B.\tPerform the 10-fold cross validation for training SVM with Linear Kernel"
      ],
      "metadata": {
        "id": "VEPAfEkud0E5"
      }
    },
    {
      "cell_type": "code",
      "source": [
        "from sklearn.svm import SVC\n",
        "from sklearn.model_selection import cross_val_score\n",
        "\n",
        "# Create an SVM classifier with a Linear kernel\n",
        "svm_linear = SVC(kernel='linear')\n",
        "\n",
        "# Perform 10-fold cross-validation on the training data\n",
        "scores = cross_val_score(svm_linear, X_train, y_train, cv=10)\n",
        "\n",
        "# Print the average accuracy of the cross-validation\n",
        "print(\"Average Accuracy (Linear Kernel):\", scores.mean())\n"
      ],
      "metadata": {
        "colab": {
          "base_uri": "https://localhost:8080/"
        },
        "id": "jPcIez6Gd0Zv",
        "outputId": "62e4bab0-0e94-4860-a37d-0e19634d25d5"
      },
      "execution_count": 7,
      "outputs": [
        {
          "output_type": "stream",
          "name": "stdout",
          "text": [
            "Average Accuracy (Linear Kernel): 0.9714009661835747\n"
          ]
        }
      ]
    },
    {
      "cell_type": "markdown",
      "source": [
        "C.\tChange Kernel Function (RBF, Polynomial) and compute the performance (Accuracy and F-Score)."
      ],
      "metadata": {
        "id": "MOGHqGaCgdRF"
      }
    },
    {
      "cell_type": "code",
      "source": [
        "# Create SVM classifiers with different kernel functions\n",
        "svm_rbf = SVC(kernel='rbf')\n",
        "svm_poly = SVC(kernel='poly')\n",
        "\n",
        "# Fit the classifiers on the training data\n",
        "svm_rbf.fit(X_train, y_train)\n",
        "svm_poly.fit(X_train, y_train)\n",
        "\n",
        "# Make predictions on the test data\n",
        "y_pred_rbf = svm_rbf.predict(X_test)\n",
        "y_pred_poly = svm_poly.predict(X_test)\n",
        "\n",
        "\n",
        "from sklearn.metrics import f1_score\n",
        "\n",
        "# Compute performance metrics for RBF kernel with 'macro' average\n",
        "f1_rbf = f1_score(y_test, y_pred_rbf, average='macro')\n",
        "\n",
        "# Compute performance metrics for Polynomial kernel with 'macro' average\n",
        "f1_poly = f1_score(y_test, y_pred_poly, average='macro')\n",
        "\n",
        "# Assuming you have already trained and predicted with the Polynomial kernel\n",
        "from sklearn.metrics import accuracy_score\n",
        "\n",
        "# Compute accuracy for Polynomial kernel\n",
        "accuracy_poly = accuracy_score(y_test, y_pred_poly)\n",
        "\n",
        "\n",
        "# Print the performance metrics\n",
        "print(\"Performance Metrics for RBF Kernel:\")\n",
        "print(\"Accuracy:\", accuracy_rbf)\n",
        "print(\"F-Score:\", f1_rbf)\n",
        "\n",
        "# Print accuracy\n",
        "print(\"\\nPerformance Metrics for Polynomial Kernel:\")\n",
        "print(\"Accuracy:\", accuracy_poly)\n",
        "print(\"F-Score:\", f1_poly)\n"
      ],
      "metadata": {
        "colab": {
          "base_uri": "https://localhost:8080/"
        },
        "id": "KhYbjRaAd6FZ",
        "outputId": "8b25a839-8a0f-4b6e-dd00-b9481dd2090c"
      },
      "execution_count": 16,
      "outputs": [
        {
          "output_type": "stream",
          "name": "stdout",
          "text": [
            "Performance Metrics for RBF Kernel:\n",
            "Accuracy: 0.9824561403508771\n",
            "F-Score: 0.9422297297297297\n",
            "\n",
            "Performance Metrics for Polynomial Kernel:\n",
            "Accuracy: 0.9473684210526315\n",
            "F-Score: 0.9422297297297297\n"
          ]
        }
      ]
    }
  ]
}